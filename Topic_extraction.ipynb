{
 "cells": [
  {
   "cell_type": "code",
   "execution_count": 108,
   "metadata": {},
   "outputs": [],
   "source": [
    "import pandas as pd\n",
    "import numpy as np\n",
    "import fasttext\n",
    "import nltk\n",
    "from nltk.stem.wordnet import WordNetLemmatizer\n",
    "from nltk.tokenize import word_tokenize\n",
    "from nltk.corpus import wordnet\n",
    "import re\n",
    "from sklearn.feature_extraction.text import CountVectorizer\n",
    "from sklearn.feature_extraction.text import TfidfVectorizer\n",
    "from sklearn.decomposition import TruncatedSVD\n",
    "from nltk.corpus import stopwords\n",
    "import gensim\n",
    "import gensim.corpora as corpora\n",
    "from gensim.utils import simple_preprocess\n",
    "from gensim.models import CoherenceModel\n",
    "import spacy\n",
    "from collections import Counter\n",
    "from pprint import pprint\n",
    "import time\n",
    "import matplotlib.pyplot as plt\n"
   ]
  },
  {
   "cell_type": "code",
   "execution_count": 2,
   "metadata": {},
   "outputs": [
    {
     "data": {
      "text/html": [
       "<div>\n",
       "<style scoped>\n",
       "    .dataframe tbody tr th:only-of-type {\n",
       "        vertical-align: middle;\n",
       "    }\n",
       "\n",
       "    .dataframe tbody tr th {\n",
       "        vertical-align: top;\n",
       "    }\n",
       "\n",
       "    .dataframe thead th {\n",
       "        text-align: right;\n",
       "    }\n",
       "</style>\n",
       "<table border=\"1\" class=\"dataframe\">\n",
       "  <thead>\n",
       "    <tr style=\"text-align: right;\">\n",
       "      <th></th>\n",
       "      <th>0</th>\n",
       "    </tr>\n",
       "  </thead>\n",
       "  <tbody>\n",
       "    <tr>\n",
       "      <th>0</th>\n",
       "      <td>Our stay with Marcus in Bristol was fantastic ...</td>\n",
       "    </tr>\n",
       "    <tr>\n",
       "      <th>1</th>\n",
       "      <td>Marcus is a brilliant, warm and friendly host....</td>\n",
       "    </tr>\n",
       "    <tr>\n",
       "      <th>2</th>\n",
       "      <td>My mum Angela and I have stayed at Marcus' ama...</td>\n",
       "    </tr>\n",
       "    <tr>\n",
       "      <th>3</th>\n",
       "      <td>Marcus was an exceptional host. I only stayed ...</td>\n",
       "    </tr>\n",
       "    <tr>\n",
       "      <th>4</th>\n",
       "      <td>Marcus was welcoming, easy going and very help...</td>\n",
       "    </tr>\n",
       "  </tbody>\n",
       "</table>\n",
       "</div>"
      ],
      "text/plain": [
       "                                                   0\n",
       "0  Our stay with Marcus in Bristol was fantastic ...\n",
       "1  Marcus is a brilliant, warm and friendly host....\n",
       "2  My mum Angela and I have stayed at Marcus' ama...\n",
       "3  Marcus was an exceptional host. I only stayed ...\n",
       "4  Marcus was welcoming, easy going and very help..."
      ]
     },
     "execution_count": 2,
     "metadata": {},
     "output_type": "execute_result"
    }
   ],
   "source": [
    "reviews_df = pd.read_csv('english_reviews.csv',header=None)\n",
    "reviews_df.head()"
   ]
  },
  {
   "cell_type": "code",
   "execution_count": 3,
   "metadata": {},
   "outputs": [
    {
     "data": {
      "text/plain": [
       "[\"Our stay with Marcus in Bristol was fantastic in every way! He was a great host - picking us up at the bus stop, recommending places to try, leaving plenty of pastries and other breakfast items to enjoy in the morning. The flat itself was modern, bright, clean and spacious - and best of all, right on Bristol's lovely harbourside. We will definitely stay again next time we're in Bristol - thanks again Marcus!\"]"
      ]
     },
     "execution_count": 3,
     "metadata": {},
     "output_type": "execute_result"
    }
   ],
   "source": [
    "reviews = reviews_df[0].to_list()\n",
    "reviews[0:1]"
   ]
  },
  {
   "cell_type": "code",
   "execution_count": 4,
   "metadata": {
    "scrolled": true
   },
   "outputs": [],
   "source": [
    "reviews = [re.sub('\\S*@\\S*\\s?', '', review) for review in reviews]\n",
    "reviews = [re.sub('\\s+',' ',review) for review in reviews]\n",
    "reviews = [re.sub(\"\\'\",\"\",review) for review in reviews]"
   ]
  },
  {
   "cell_type": "code",
   "execution_count": 5,
   "metadata": {
    "scrolled": true
   },
   "outputs": [
    {
     "data": {
      "text/plain": [
       "['our',\n",
       " 'stay',\n",
       " 'with',\n",
       " 'marcus',\n",
       " 'in',\n",
       " 'bristol',\n",
       " 'was',\n",
       " 'fantastic',\n",
       " 'in',\n",
       " 'every',\n",
       " 'way',\n",
       " 'he',\n",
       " 'was',\n",
       " 'great',\n",
       " 'host',\n",
       " 'picking',\n",
       " 'us',\n",
       " 'up',\n",
       " 'at',\n",
       " 'the',\n",
       " 'bus',\n",
       " 'stop',\n",
       " 'recommending',\n",
       " 'places',\n",
       " 'to',\n",
       " 'try',\n",
       " 'leaving',\n",
       " 'plenty',\n",
       " 'of',\n",
       " 'pastries',\n",
       " 'and',\n",
       " 'other',\n",
       " 'breakfast',\n",
       " 'items',\n",
       " 'to',\n",
       " 'enjoy',\n",
       " 'in',\n",
       " 'the',\n",
       " 'morning',\n",
       " 'the',\n",
       " 'flat',\n",
       " 'itself',\n",
       " 'was',\n",
       " 'modern',\n",
       " 'bright',\n",
       " 'clean',\n",
       " 'and',\n",
       " 'spacious',\n",
       " 'and',\n",
       " 'best',\n",
       " 'of',\n",
       " 'all',\n",
       " 'right',\n",
       " 'on',\n",
       " 'bristols',\n",
       " 'lovely',\n",
       " 'harbourside',\n",
       " 'we',\n",
       " 'will',\n",
       " 'definitely',\n",
       " 'stay',\n",
       " 'again',\n",
       " 'next',\n",
       " 'time',\n",
       " 'were',\n",
       " 'in',\n",
       " 'bristol',\n",
       " 'thanks',\n",
       " 'again',\n",
       " 'marcus']"
      ]
     },
     "execution_count": 5,
     "metadata": {},
     "output_type": "execute_result"
    }
   ],
   "source": [
    "tokenized_reviews = [gensim.utils.simple_preprocess(str(review), deacc=True)  for review in reviews]\n",
    "tokenized_reviews[0]"
   ]
  },
  {
   "cell_type": "code",
   "execution_count": 6,
   "metadata": {},
   "outputs": [
    {
     "data": {
      "text/plain": [
       "70"
      ]
     },
     "execution_count": 6,
     "metadata": {},
     "output_type": "execute_result"
    }
   ],
   "source": [
    "len(tokenized_reviews[0])"
   ]
  },
  {
   "cell_type": "code",
   "execution_count": 7,
   "metadata": {
    "scrolled": true
   },
   "outputs": [
    {
     "data": {
      "text/plain": [
       "Counter({'our': 1,\n",
       "         'stay': 2,\n",
       "         'with': 1,\n",
       "         'marcus': 2,\n",
       "         'in': 4,\n",
       "         'bristol': 2,\n",
       "         'was': 3,\n",
       "         'fantastic': 1,\n",
       "         'every': 1,\n",
       "         'way': 1,\n",
       "         'he': 1,\n",
       "         'great': 1,\n",
       "         'host': 1,\n",
       "         'picking': 1,\n",
       "         'us': 1,\n",
       "         'up': 1,\n",
       "         'at': 1,\n",
       "         'the': 3,\n",
       "         'bus': 1,\n",
       "         'stop': 1,\n",
       "         'recommending': 1,\n",
       "         'places': 1,\n",
       "         'to': 2,\n",
       "         'try': 1,\n",
       "         'leaving': 1,\n",
       "         'plenty': 1,\n",
       "         'of': 2,\n",
       "         'pastries': 1,\n",
       "         'and': 3,\n",
       "         'other': 1,\n",
       "         'breakfast': 1,\n",
       "         'items': 1,\n",
       "         'enjoy': 1,\n",
       "         'morning': 1,\n",
       "         'flat': 1,\n",
       "         'itself': 1,\n",
       "         'modern': 1,\n",
       "         'bright': 1,\n",
       "         'clean': 1,\n",
       "         'spacious': 1,\n",
       "         'best': 1,\n",
       "         'all': 1,\n",
       "         'right': 1,\n",
       "         'on': 1,\n",
       "         'bristols': 1,\n",
       "         'lovely': 1,\n",
       "         'harbourside': 1,\n",
       "         'we': 1,\n",
       "         'will': 1,\n",
       "         'definitely': 1,\n",
       "         'again': 2,\n",
       "         'next': 1,\n",
       "         'time': 1,\n",
       "         'were': 1,\n",
       "         'thanks': 1})"
      ]
     },
     "execution_count": 7,
     "metadata": {},
     "output_type": "execute_result"
    }
   ],
   "source": [
    "Counter(tokenized_reviews[0])"
   ]
  },
  {
   "cell_type": "code",
   "execution_count": 8,
   "metadata": {
    "collapsed": true
   },
   "outputs": [
    {
     "data": {
      "text/plain": [
       "['i',\n",
       " 'me',\n",
       " 'my',\n",
       " 'myself',\n",
       " 'we',\n",
       " 'our',\n",
       " 'ours',\n",
       " 'ourselves',\n",
       " 'you',\n",
       " \"you're\",\n",
       " \"you've\",\n",
       " \"you'll\",\n",
       " \"you'd\",\n",
       " 'your',\n",
       " 'yours',\n",
       " 'yourself',\n",
       " 'yourselves',\n",
       " 'he',\n",
       " 'him',\n",
       " 'his',\n",
       " 'himself',\n",
       " 'she',\n",
       " \"she's\",\n",
       " 'her',\n",
       " 'hers',\n",
       " 'herself',\n",
       " 'it',\n",
       " \"it's\",\n",
       " 'its',\n",
       " 'itself',\n",
       " 'they',\n",
       " 'them',\n",
       " 'their',\n",
       " 'theirs',\n",
       " 'themselves',\n",
       " 'what',\n",
       " 'which',\n",
       " 'who',\n",
       " 'whom',\n",
       " 'this',\n",
       " 'that',\n",
       " \"that'll\",\n",
       " 'these',\n",
       " 'those',\n",
       " 'am',\n",
       " 'is',\n",
       " 'are',\n",
       " 'was',\n",
       " 'were',\n",
       " 'be',\n",
       " 'been',\n",
       " 'being',\n",
       " 'have',\n",
       " 'has',\n",
       " 'had',\n",
       " 'having',\n",
       " 'do',\n",
       " 'does',\n",
       " 'did',\n",
       " 'doing',\n",
       " 'a',\n",
       " 'an',\n",
       " 'the',\n",
       " 'and',\n",
       " 'but',\n",
       " 'if',\n",
       " 'or',\n",
       " 'because',\n",
       " 'as',\n",
       " 'until',\n",
       " 'while',\n",
       " 'of',\n",
       " 'at',\n",
       " 'by',\n",
       " 'for',\n",
       " 'with',\n",
       " 'about',\n",
       " 'against',\n",
       " 'between',\n",
       " 'into',\n",
       " 'through',\n",
       " 'during',\n",
       " 'before',\n",
       " 'after',\n",
       " 'above',\n",
       " 'below',\n",
       " 'to',\n",
       " 'from',\n",
       " 'up',\n",
       " 'down',\n",
       " 'in',\n",
       " 'out',\n",
       " 'on',\n",
       " 'off',\n",
       " 'over',\n",
       " 'under',\n",
       " 'again',\n",
       " 'further',\n",
       " 'then',\n",
       " 'once',\n",
       " 'here',\n",
       " 'there',\n",
       " 'when',\n",
       " 'where',\n",
       " 'why',\n",
       " 'how',\n",
       " 'all',\n",
       " 'any',\n",
       " 'both',\n",
       " 'each',\n",
       " 'few',\n",
       " 'more',\n",
       " 'most',\n",
       " 'other',\n",
       " 'some',\n",
       " 'such',\n",
       " 'no',\n",
       " 'nor',\n",
       " 'not',\n",
       " 'only',\n",
       " 'own',\n",
       " 'same',\n",
       " 'so',\n",
       " 'than',\n",
       " 'too',\n",
       " 'very',\n",
       " 's',\n",
       " 't',\n",
       " 'can',\n",
       " 'will',\n",
       " 'just',\n",
       " 'don',\n",
       " \"don't\",\n",
       " 'should',\n",
       " \"should've\",\n",
       " 'now',\n",
       " 'd',\n",
       " 'll',\n",
       " 'm',\n",
       " 'o',\n",
       " 're',\n",
       " 've',\n",
       " 'y',\n",
       " 'ain',\n",
       " 'aren',\n",
       " \"aren't\",\n",
       " 'couldn',\n",
       " \"couldn't\",\n",
       " 'didn',\n",
       " \"didn't\",\n",
       " 'doesn',\n",
       " \"doesn't\",\n",
       " 'hadn',\n",
       " \"hadn't\",\n",
       " 'hasn',\n",
       " \"hasn't\",\n",
       " 'haven',\n",
       " \"haven't\",\n",
       " 'isn',\n",
       " \"isn't\",\n",
       " 'ma',\n",
       " 'mightn',\n",
       " \"mightn't\",\n",
       " 'mustn',\n",
       " \"mustn't\",\n",
       " 'needn',\n",
       " \"needn't\",\n",
       " 'shan',\n",
       " \"shan't\",\n",
       " 'shouldn',\n",
       " \"shouldn't\",\n",
       " 'wasn',\n",
       " \"wasn't\",\n",
       " 'weren',\n",
       " \"weren't\",\n",
       " 'won',\n",
       " \"won't\",\n",
       " 'wouldn',\n",
       " \"wouldn't\"]"
      ]
     },
     "execution_count": 8,
     "metadata": {},
     "output_type": "execute_result"
    }
   ],
   "source": [
    "stop_words = stopwords.words('english')\n",
    "stop_words"
   ]
  },
  {
   "cell_type": "code",
   "execution_count": 9,
   "metadata": {},
   "outputs": [
    {
     "data": {
      "text/plain": [
       "47"
      ]
     },
     "execution_count": 9,
     "metadata": {},
     "output_type": "execute_result"
    }
   ],
   "source": [
    "for tokenized_review in tokenized_reviews:\n",
    "    for token in tokenized_review:\n",
    "        if token in stop_words:\n",
    "            tokenized_review.remove(token)\n",
    "           \n",
    "\n",
    "len(tokenized_reviews[0])\n",
    "            "
   ]
  },
  {
   "cell_type": "code",
   "execution_count": 10,
   "metadata": {
    "collapsed": true
   },
   "outputs": [
    {
     "data": {
      "text/plain": [
       "96544"
      ]
     },
     "execution_count": 10,
     "metadata": {},
     "output_type": "execute_result"
    }
   ],
   "source": [
    "len(tokenized_reviews)"
   ]
  },
  {
   "cell_type": "code",
   "execution_count": 11,
   "metadata": {},
   "outputs": [
    {
     "name": "stdout",
     "output_type": "stream",
     "text": [
      "Total number of tokens: 2297359\n"
     ]
    }
   ],
   "source": [
    "c=0\n",
    "for review in tokenized_reviews:\n",
    "    c+= len(review) \n",
    "print(\"Total number of tokens:\",c)"
   ]
  },
  {
   "cell_type": "code",
   "execution_count": 12,
   "metadata": {},
   "outputs": [],
   "source": [
    "bigram = gensim.models.Phrases(tokenized_reviews, min_count=5, threshold=100) # higher threshold fewer phrases.\n",
    "trigram = gensim.models.Phrases(bigram[tokenized_reviews], threshold=100)  "
   ]
  },
  {
   "cell_type": "code",
   "execution_count": 54,
   "metadata": {
    "collapsed": true
   },
   "outputs": [
    {
     "data": {
      "text/plain": [
       "['stay',\n",
       " 'marcus',\n",
       " 'bristol',\n",
       " 'fantastic',\n",
       " 'every',\n",
       " 'way',\n",
       " 'was',\n",
       " 'great',\n",
       " 'host',\n",
       " 'picking',\n",
       " 'us',\n",
       " 'at',\n",
       " 'bus_stop',\n",
       " 'recommending',\n",
       " 'places',\n",
       " 'try',\n",
       " 'leaving',\n",
       " 'plenty',\n",
       " 'pastries',\n",
       " 'other',\n",
       " 'breakfast',\n",
       " 'items',\n",
       " 'enjoy',\n",
       " 'morning',\n",
       " 'the',\n",
       " 'flat',\n",
       " 'was',\n",
       " 'modern',\n",
       " 'bright',\n",
       " 'clean',\n",
       " 'spacious',\n",
       " 'best',\n",
       " 'all',\n",
       " 'right',\n",
       " 'bristols',\n",
       " 'lovely',\n",
       " 'harbourside',\n",
       " 'will',\n",
       " 'definitely',\n",
       " 'stay',\n",
       " 'next',\n",
       " 'time',\n",
       " 'in',\n",
       " 'bristol',\n",
       " 'thanks',\n",
       " 'marcus']"
      ]
     },
     "execution_count": 54,
     "metadata": {},
     "output_type": "execute_result"
    }
   ],
   "source": [
    "bigram_mod = gensim.models.phrases.Phraser(bigram)\n",
    "trigram_mod = gensim.models.phrases.Phraser(trigram)\n",
    "trigram_mod[bigram_mod[tokenized_reviews[0]]]"
   ]
  },
  {
   "cell_type": "code",
   "execution_count": 56,
   "metadata": {},
   "outputs": [
    {
     "name": "stdout",
     "output_type": "stream",
     "text": [
      "['stay', 'marcus', 'bristol', 'fantastic', 'every', 'way', 'was', 'great', 'host', 'picking', 'us', 'at', 'bus_stop', 'recommending', 'places', 'try', 'leaving', 'plenty', 'pastries', 'other', 'breakfast', 'items', 'enjoy', 'morning', 'the', 'flat', 'was', 'modern', 'bright', 'clean', 'spacious', 'best', 'all', 'right', 'bristols', 'lovely', 'harbourside', 'will', 'definitely', 'stay', 'next', 'time', 'in', 'bristol', 'thanks', 'marcus']\n"
     ]
    }
   ],
   "source": [
    "reviews_bigram = [bigram_mod[review] for review in tokenized_reviews]\n",
    "reviews_trigram = [trigram_mod[bigram_mod[review]] for review in tokenized_reviews]"
   ]
  },
  {
   "cell_type": "code",
   "execution_count": 67,
   "metadata": {
    "scrolled": true
   },
   "outputs": [
    {
     "data": {
      "text/plain": [
       "['stay',\n",
       " 'marcus',\n",
       " 'bristol',\n",
       " 'fantastic',\n",
       " 'every',\n",
       " 'way',\n",
       " 'wa',\n",
       " 'great',\n",
       " 'host',\n",
       " 'picking',\n",
       " 'u',\n",
       " 'at',\n",
       " 'bus_stop',\n",
       " 'recommending',\n",
       " 'place',\n",
       " 'try',\n",
       " 'leaving',\n",
       " 'plenty',\n",
       " 'pastry',\n",
       " 'other',\n",
       " 'breakfast',\n",
       " 'item',\n",
       " 'enjoy',\n",
       " 'morning',\n",
       " 'the',\n",
       " 'flat',\n",
       " 'wa',\n",
       " 'modern',\n",
       " 'bright',\n",
       " 'clean',\n",
       " 'spacious',\n",
       " 'best',\n",
       " 'all',\n",
       " 'right',\n",
       " 'bristol',\n",
       " 'lovely',\n",
       " 'harbourside',\n",
       " 'will',\n",
       " 'definitely',\n",
       " 'stay',\n",
       " 'next',\n",
       " 'time',\n",
       " 'in',\n",
       " 'bristol',\n",
       " 'thanks',\n",
       " 'marcus']"
      ]
     },
     "execution_count": 67,
     "metadata": {},
     "output_type": "execute_result"
    }
   ],
   "source": [
    "#lemmaztize\n",
    "allowed_pos = ['w','n','a']\n",
    "for review in reviews_bigram:\n",
    "    for index,token in enumerate(review):\n",
    "         lemma = lemmatizer.lemmatize(token)\n",
    "         review[index]=lemma\n",
    "        \n",
    "lemamatized_reviews = reviews_bigram\n",
    "lemamatized_reviews[0]"
   ]
  },
  {
   "cell_type": "code",
   "execution_count": 73,
   "metadata": {
    "collapsed": true
   },
   "outputs": [
    {
     "data": {
      "text/plain": [
       "[(0, 1),\n",
       " (1, 1),\n",
       " (2, 1),\n",
       " (3, 1),\n",
       " (4, 1),\n",
       " (5, 3),\n",
       " (6, 1),\n",
       " (7, 1),\n",
       " (8, 1),\n",
       " (9, 1),\n",
       " (10, 1),\n",
       " (11, 1),\n",
       " (12, 1),\n",
       " (13, 1),\n",
       " (14, 1),\n",
       " (15, 1),\n",
       " (16, 1),\n",
       " (17, 1),\n",
       " (18, 1),\n",
       " (19, 1),\n",
       " (20, 2),\n",
       " (21, 1),\n",
       " (22, 1),\n",
       " (23, 1),\n",
       " (24, 1),\n",
       " (25, 1),\n",
       " (26, 1),\n",
       " (27, 1),\n",
       " (28, 1),\n",
       " (29, 1),\n",
       " (30, 1),\n",
       " (31, 1),\n",
       " (32, 2),\n",
       " (33, 1),\n",
       " (34, 1),\n",
       " (35, 1),\n",
       " (36, 1),\n",
       " (37, 1),\n",
       " (38, 2),\n",
       " (39, 1),\n",
       " (40, 1)]"
      ]
     },
     "execution_count": 73,
     "metadata": {},
     "output_type": "execute_result"
    }
   ],
   "source": [
    "id2word = corpora.Dictionary(lemamatized_reviews)\n",
    "corpus = [id2word.doc2bow(lemamatized_review)for lemamatized_review in lemamatized_reviews]\n",
    "corpus[0]"
   ]
  },
  {
   "cell_type": "code",
   "execution_count": 80,
   "metadata": {
    "scrolled": true
   },
   "outputs": [
    {
     "data": {
      "text/plain": [
       "[('all', 1),\n",
       " ('at', 1),\n",
       " ('best', 1),\n",
       " ('breakfast', 1),\n",
       " ('bright', 1),\n",
       " ('bristol', 3),\n",
       " ('bus_stop', 1),\n",
       " ('clean', 1),\n",
       " ('definitely', 1),\n",
       " ('enjoy', 1),\n",
       " ('every', 1),\n",
       " ('fantastic', 1),\n",
       " ('flat', 1),\n",
       " ('great', 1),\n",
       " ('harbourside', 1),\n",
       " ('host', 1),\n",
       " ('in', 1),\n",
       " ('item', 1),\n",
       " ('leaving', 1),\n",
       " ('lovely', 1),\n",
       " ('marcus', 2),\n",
       " ('modern', 1),\n",
       " ('morning', 1),\n",
       " ('next', 1),\n",
       " ('other', 1),\n",
       " ('pastry', 1),\n",
       " ('picking', 1),\n",
       " ('place', 1),\n",
       " ('plenty', 1),\n",
       " ('recommending', 1),\n",
       " ('right', 1),\n",
       " ('spacious', 1),\n",
       " ('stay', 2),\n",
       " ('thanks', 1),\n",
       " ('the', 1),\n",
       " ('time', 1),\n",
       " ('try', 1),\n",
       " ('u', 1),\n",
       " ('wa', 2),\n",
       " ('way', 1),\n",
       " ('will', 1)]"
      ]
     },
     "execution_count": 80,
     "metadata": {},
     "output_type": "execute_result"
    }
   ],
   "source": [
    "[(id2word[index], freq) for index, freq in corpus[0]]"
   ]
  },
  {
   "cell_type": "code",
   "execution_count": 115,
   "metadata": {},
   "outputs": [
    {
     "data": {
      "text/plain": [
       "1886.1918740272522"
      ]
     },
     "execution_count": 115,
     "metadata": {},
     "output_type": "execute_result"
    }
   ],
   "source": [
    "start = time.time()\n",
    "lda_model = gensim.models.ldamodel.LdaModel(corpus=corpus,\n",
    "                                           id2word=id2word,\n",
    "                                           num_topics=23, \n",
    "                                           random_state=42,\n",
    "                                           update_every=1,\n",
    "                                           chunksize=100,\n",
    "                                           passes=10,\n",
    "                                           alpha='auto',\n",
    "                                           per_word_topics=True)\n",
    "time.time()- start"
   ]
  },
  {
   "cell_type": "code",
   "execution_count": 116,
   "metadata": {},
   "outputs": [
    {
     "name": "stdout",
     "output_type": "stream",
     "text": [
      "[(3,\n",
      "  '0.000*\"hyper\" + 0.000*\"sujet\" + 0.000*\"costly\" + 0.000*\"mildew\" + '\n",
      "  '0.000*\"rodeado\" + 0.000*\"agence\" + 0.000*\"centralite\" + 0.000*\"choisir\" + '\n",
      "  '0.000*\"stripping\" + 0.000*\"outspoken\"'),\n",
      " (22,\n",
      "  '0.194*\"bit\" + 0.116*\"far\" + 0.095*\"exactly\" + 0.089*\"expected\" + '\n",
      "  '0.074*\"photo\" + 0.056*\"relaxing\" + 0.052*\"pleasure\" + 0.047*\"interesting\" + '\n",
      "  '0.032*\"welcomed\" + 0.030*\"trouble\"'),\n",
      " (17,\n",
      "  '0.172*\"people\" + 0.142*\"value\" + 0.136*\"arrival\" + 0.074*\"bus_stop\" + '\n",
      "  '0.074*\"automated_posting\" + 0.053*\"bright\" + 0.047*\"useful\" + '\n",
      "  '0.040*\"flexible\" + 0.035*\"appointed\" + 0.033*\"ensuite\"'),\n",
      " (9,\n",
      "  '0.264*\"made\" + 0.238*\"feel\" + 0.179*\"welcome\" + 0.054*\"exploring\" + '\n",
      "  '0.043*\"than\" + 0.034*\"ask\" + 0.030*\"air_bnb\" + 0.022*\"appartment\" + '\n",
      "  '0.015*\"nicer\" + 0.007*\"couldnt_asked\"'),\n",
      " (1,\n",
      "  '0.144*\"just\" + 0.132*\"quite\" + 0.126*\"enough\" + 0.106*\"want\" + '\n",
      "  '0.081*\"though\" + 0.071*\"full\" + 0.061*\"peaceful\" + 0.043*\"hospitable\" + '\n",
      "  '0.039*\"nicely\" + 0.027*\"front\"'),\n",
      " (16,\n",
      "  '0.223*\"located\" + 0.120*\"etc\" + 0.105*\"center\" + 0.098*\"private\" + '\n",
      "  '0.085*\"pleasant\" + 0.067*\"person\" + 0.057*\"pretty\" + 0.037*\"neighbourhood\" '\n",
      "  '+ 0.034*\"neighborhood\" + 0.032*\"conveniently\"'),\n",
      " (14,\n",
      "  '0.310*\"lot\" + 0.156*\"tidy\" + 0.117*\"no\" + 0.093*\"problem\" + 0.059*\"picture\" '\n",
      "  '+ 0.054*\"walking\" + 0.050*\"wifi\" + 0.030*\"temple_meads\" + '\n",
      "  '0.015*\"communicating\" + 0.011*\"surprise\"'),\n",
      " (5,\n",
      "  '0.227*\"comfy\" + 0.132*\"use\" + 0.074*\"building\" + 0.064*\"tv\" + '\n",
      "  '0.057*\"gorgeous\" + 0.056*\"getting\" + 0.051*\"although\" + 0.036*\"due\" + '\n",
      "  '0.028*\"meet\" + 0.028*\"daughter\"'),\n",
      " (6,\n",
      "  '0.252*\"touch\" + 0.121*\"ha\" + 0.118*\"accommodation\" + 0.096*\"book\" + '\n",
      "  '0.079*\"some\" + 0.077*\"extra\" + 0.033*\"outstanding\" + 0.032*\"superb\" + '\n",
      "  '0.027*\"secure\" + 0.025*\"personal\"'),\n",
      " (20,\n",
      "  '0.898*\"nice\" + 0.014*\"train\" + 0.007*\"sunday\" + 0.000*\"coffee\" + '\n",
      "  '0.000*\"street\" + 0.000*\"clifton\" + 0.000*\"couple\" + 0.000*\"pub\" + '\n",
      "  '0.000*\"garden\" + 0.000*\"tea\"'),\n",
      " (2,\n",
      "  '0.080*\"airbnb\" + 0.074*\"best\" + 0.067*\"experience\" + 0.058*\"can\" + '\n",
      "  '0.050*\"first\" + 0.048*\"ever\" + 0.045*\"price\" + 0.044*\"homely\" + '\n",
      "  '0.043*\"been\" + 0.042*\"spotless\"'),\n",
      " (21,\n",
      "  '0.269*\"everything\" + 0.179*\"need\" + 0.155*\"stylish\" + 0.125*\"needed\" + '\n",
      "  '0.100*\"could\" + 0.038*\"more\" + 0.017*\"longer\" + 0.015*\"wish\" + '\n",
      "  '0.015*\"couldnt\" + 0.013*\"asked\"'),\n",
      " (7,\n",
      "  '0.224*\"city\" + 0.214*\"centre\" + 0.166*\"walk\" + 0.097*\"minute\" + '\n",
      "  '0.072*\"town\" + 0.057*\"min\" + 0.039*\"cafe\" + 0.024*\"incredibly\" + '\n",
      "  '0.021*\"train_station\" + 0.020*\"le\"'),\n",
      " (10,\n",
      "  '0.208*\"we\" + 0.204*\"u\" + 0.105*\"our\" + 0.090*\"were\" + 0.078*\"property\" + '\n",
      "  '0.053*\"quick\" + 0.033*\"gave\" + 0.030*\"left\" + 0.030*\"sparkling\" + '\n",
      "  '0.027*\"able\"'),\n",
      " (12,\n",
      "  '0.275*\"good\" + 0.250*\"flat\" + 0.144*\"highly\" + 0.091*\"fantastic\" + '\n",
      "  '0.062*\"recommended\" + 0.046*\"central\" + 0.028*\"responsive\" + '\n",
      "  '0.014*\"fabulous\" + 0.010*\"special\" + 0.008*\"attentive\"'),\n",
      " (0,\n",
      "  '0.132*\"home\" + 0.060*\"like\" + 0.042*\"loved\" + 0.040*\"felt\" + 0.040*\"family\" '\n",
      "  '+ 0.038*\"are\" + 0.033*\"bus\" + 0.028*\"thoughtful\" + 0.028*\"issue\" + '\n",
      "  '0.027*\"hospitality\"'),\n",
      " (15,\n",
      "  '0.260*\"would\" + 0.223*\"recommend\" + 0.132*\"definitely\" + 0.063*\"staying\" + '\n",
      "  '0.048*\"again\" + 0.033*\"will\" + 0.028*\"value_money\" + 0.025*\"if\" + '\n",
      "  '0.024*\"visiting\" + 0.023*\"anyone\"'),\n",
      " (4,\n",
      "  '0.605*\"great\" + 0.367*\"location\" + 0.007*\"fast\" + 0.000*\"street\" + '\n",
      "  '0.000*\"clifton\" + 0.000*\"coffee\" + 0.000*\"couple\" + 0.000*\"nearby\" + '\n",
      "  '0.000*\"road\" + 0.000*\"her\"'),\n",
      " (11,\n",
      "  '0.119*\"stay\" + 0.100*\"place\" + 0.078*\"clean\" + 0.076*\"host\" + '\n",
      "  '0.072*\"lovely\" + 0.066*\"very\" + 0.054*\"really\" + 0.045*\"room\" + '\n",
      "  '0.045*\"house\" + 0.042*\"comfortable\"'),\n",
      " (13,\n",
      "  '0.126*\"the\" + 0.041*\"bristol\" + 0.033*\"wa\" + 0.026*\"apartment\" + 0.025*\"is\" '\n",
      "  '+ 0.022*\"well\" + 0.020*\"easy\" + 0.019*\"bed\" + 0.018*\"space\" + 0.017*\"it\"')]\n"
     ]
    }
   ],
   "source": [
    "pprint(lda_model.print_topics())\n",
    "doc_lda = lda_model[corpus]"
   ]
  },
  {
   "cell_type": "code",
   "execution_count": 105,
   "metadata": {},
   "outputs": [],
   "source": [
    "coherence_values = []\n",
    "model_list = []\n",
    "for num_topics in range(10, 25, 3):\n",
    "        lda_model = gensim.models.ldamodel.LdaModel(corpus=corpus,\n",
    "                                           id2word=id2word,\n",
    "                                           num_topics=num_topics, \n",
    "                                           random_state=42,\n",
    "                                           update_every=1,\n",
    "                                           chunksize=100,\n",
    "                                           passes=10,\n",
    "                                           alpha='auto',\n",
    "                                           per_word_topics=True)\n",
    "        model_list.append(lda_model)\n",
    "        coherencemodel = CoherenceModel(model=lda_model, texts=lemamatized_reviews, dictionary=id2word, coherence='c_v')\n",
    "        coherence_values.append(coherencemodel.get_coherence())\n",
    "\n",
    "#print (model_list, coherence_values)"
   ]
  },
  {
   "cell_type": "code",
   "execution_count": 111,
   "metadata": {},
   "outputs": [
    {
     "data": {
      "image/png": "[encoded data removed]",
      "text/plain": [
       "<Figure size 432x288 with 1 Axes>"
      ]
     },
     "metadata": {
      "needs_background": "light"
     },
     "output_type": "display_data"
    }
   ],
   "source": [
    "limit=25; start=10; step=3;\n",
    "x = range(start, limit, step)\n",
    "plt.plot(x, coherence_values)\n",
    "plt.xlabel(\"Num Topics\")\n",
    "plt.ylabel(\"Coherence score\")\n",
    "plt.legend((\"coherence_values\"), loc='best')\n",
    "plt.show()"
   ]
  },
  {
   "cell_type": "code",
   "execution_count": 112,
   "metadata": {},
   "outputs": [
    {
     "name": "stdout",
     "output_type": "stream",
     "text": [
      "Num Topics = 10  has Coherence Value of 0.4867\n",
      "Num Topics = 13  has Coherence Value of 0.4929\n",
      "Num Topics = 16  has Coherence Value of 0.4449\n",
      "Num Topics = 19  has Coherence Value of 0.4081\n",
      "Num Topics = 22  has Coherence Value of 0.4202\n"
     ]
    }
   ],
   "source": [
    "for m, cv in zip(x, coherence_values):\n",
    "    print(\"Num Topics =\", m, \" has Coherence Value of\", round(cv, 4))"
   ]
  },
  {
   "cell_type": "code",
   "execution_count": null,
   "metadata": {},
   "outputs": [],
   "source": [
    "#svd = TruncatedSVD(n_components=20) #take 20 singular values i.e  latent features \n",
    "#latent_features = svd.fit_transform(bag_of_words)#extract hidden features from the bag of words using singular value decomposition\n"
   ]
  },
  {
   "cell_type": "code",
   "execution_count": null,
   "metadata": {},
   "outputs": [],
   "source": [
    "#latent_features_df = pd.DataFrame(latent_features)\n",
    "#latent_features_df[\"body\"] = body\n",
    "#latent_features_df.head()"
   ]
  }
 ],
 "metadata": {
  "kernelspec": {
   "display_name": "Python 3",
   "language": "python",
   "name": "python3"
  },
  "language_info": {
   "codemirror_mode": {
    "name": "ipython",
    "version": 3
   },
   "file_extension": ".py",
   "mimetype": "text/x-python",
   "name": "python",
   "nbconvert_exporter": "python",
   "pygments_lexer": "ipython3",
   "version": "3.7.6"
  }
 },
 "nbformat": 4,
 "nbformat_minor": 4
}
